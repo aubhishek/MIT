{
 "cells": [
  {
   "cell_type": "markdown",
   "metadata": {},
   "source": [
    "# Image capture and labeling"
   ]
  },
  {
   "cell_type": "code",
   "execution_count": 2,
   "metadata": {},
   "outputs": [
    {
     "name": "stdout",
     "output_type": "stream",
     "text": [
      "Saved captured_images\\image_0.jpg\n",
      "Saved captured_images\\image_1.jpg\n",
      "Saved captured_images\\image_2.jpg\n",
      "Saved captured_images\\image_3.jpg\n",
      "Saved captured_images\\image_4.jpg\n",
      "Saved captured_images\\image_5.jpg\n",
      "Saved captured_images\\image_6.jpg\n",
      "Saved captured_images\\image_7.jpg\n",
      "Saved captured_images\\image_8.jpg\n",
      "Saved captured_images\\image_9.jpg\n",
      "Saved captured_images\\image_10.jpg\n",
      "Saved captured_images\\image_11.jpg\n",
      "Saved captured_images\\image_12.jpg\n",
      "Saved captured_images\\image_13.jpg\n",
      "Saved captured_images\\image_14.jpg\n",
      "Saved captured_images\\image_15.jpg\n",
      "Saved captured_images\\image_16.jpg\n",
      "Saved captured_images\\image_17.jpg\n",
      "Saved captured_images\\image_18.jpg\n",
      "Saved captured_images\\image_19.jpg\n",
      "Saved captured_images\\image_20.jpg\n",
      "Saved captured_images\\image_21.jpg\n",
      "Saved captured_images\\image_22.jpg\n",
      "Saved captured_images\\image_23.jpg\n",
      "Saved captured_images\\image_24.jpg\n",
      "Saved captured_images\\image_25.jpg\n",
      "Saved captured_images\\image_26.jpg\n",
      "Saved captured_images\\image_27.jpg\n",
      "Saved captured_images\\image_28.jpg\n",
      "Saved captured_images\\image_29.jpg\n",
      "Saved captured_images\\image_30.jpg\n"
     ]
    }
   ],
   "source": [
    "import cv2\n",
    "import os\n",
    "\n",
    "# Create a directory to save the captured images\n",
    "output_directory = 'captured_images'\n",
    "if not os.path.exists(output_directory):\n",
    "    os.makedirs(output_directory)\n",
    "\n",
    "# Initialize webcam\n",
    "cap = cv2.VideoCapture(0)  # 0 represents the default webcam\n",
    "\n",
    "# Counter for image filenames\n",
    "image_counter = 0\n",
    "\n",
    "while True:\n",
    "    # Capture frame-by-frame\n",
    "    ret, frame = cap.read()\n",
    "\n",
    "    # Display the captured frame\n",
    "    cv2.imshow('Webcam Capture', frame)\n",
    "\n",
    "    # Capture an image when 's' is pressed\n",
    "    key = cv2.waitKey(1)\n",
    "    if key == ord('s'):\n",
    "        image_filename = os.path.join(output_directory, f'image_{image_counter}.jpg')\n",
    "        cv2.imwrite(image_filename, frame)\n",
    "        print(f'Saved {image_filename}')\n",
    "        image_counter += 1\n",
    "\n",
    "    # Exit the loop when 'q' is pressed\n",
    "    if key == ord('q'):\n",
    "        break\n",
    "\n",
    "# Release the webcam and close the window\n",
    "cap.release()\n",
    "cv2.destroyAllWindows()\n"
   ]
  },
  {
   "cell_type": "code",
   "execution_count": 3,
   "metadata": {},
   "outputs": [
    {
     "name": "stdout",
     "output_type": "stream",
     "text": [
      "Requirement already satisfied: pyqt5 in c:\\users\\aubhi\\anaconda3\\lib\\site-packages (5.15.7)\n",
      "Requirement already satisfied: PyQt5-sip<13,>=12.11 in c:\\users\\aubhi\\anaconda3\\lib\\site-packages (from pyqt5) (12.11.0)\n"
     ]
    },
    {
     "name": "stderr",
     "output_type": "stream",
     "text": [
      "WARNING: Ignoring invalid distribution -atplotlib (c:\\users\\aubhi\\anaconda3\\lib\\site-packages)\n",
      "WARNING: Ignoring invalid distribution -ensorflow-intel (c:\\users\\aubhi\\anaconda3\\lib\\site-packages)\n",
      "WARNING: Ignoring invalid distribution -illow (c:\\users\\aubhi\\anaconda3\\lib\\site-packages)\n",
      "WARNING: Ignoring invalid distribution -atplotlib (c:\\users\\aubhi\\anaconda3\\lib\\site-packages)\n",
      "WARNING: Ignoring invalid distribution -ensorflow-intel (c:\\users\\aubhi\\anaconda3\\lib\\site-packages)\n",
      "WARNING: Ignoring invalid distribution -illow (c:\\users\\aubhi\\anaconda3\\lib\\site-packages)\n"
     ]
    }
   ],
   "source": [
    "!pip install pyqt5"
   ]
  },
  {
   "cell_type": "code",
   "execution_count": null,
   "metadata": {},
   "outputs": [],
   "source": []
  }
 ],
 "metadata": {
  "kernelspec": {
   "display_name": "Python 3 (ipykernel)",
   "language": "python",
   "name": "python3"
  },
  "language_info": {
   "codemirror_mode": {
    "name": "ipython",
    "version": 3
   },
   "file_extension": ".py",
   "mimetype": "text/x-python",
   "name": "python",
   "nbconvert_exporter": "python",
   "pygments_lexer": "ipython3",
   "version": "3.9.7"
  }
 },
 "nbformat": 4,
 "nbformat_minor": 4
}
